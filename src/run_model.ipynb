{
 "cells": [
  {
   "cell_type": "markdown",
   "metadata": {},
   "source": [
    "#### Build a LASSO Model"
   ]
  },
  {
   "cell_type": "code",
   "execution_count": 18,
   "metadata": {},
   "outputs": [],
   "source": [
    "import pandas as pd\n",
    "from sklearn.linear_model import LassoLarsIC\n",
    "from lib.munge import add_lags, split_sample_bytime\n",
    "\n",
    "## 1. Read the data serialized by visualize.ipynb\n",
    "data = pd.read_pickle('../data/rates.p')\n",
    "\n",
    "## 2. Add up to 3 lags and drop holes created from lagging, or holidays.\n",
    "lagged = add_lags(data, 3).dropna()\n",
    "\n",
    "## 3. Train/test split.\n",
    "lagged.index = pd.to_datetime(lagged.index, utc=True)\n",
    "X_train, y_train, X_holdout, y_holdout = split_sample_bytime(lagged)\n",
    "\n",
    "## 4. Train model.\n",
    "model = LassoLarsIC(criterion = 'bic',\n",
    "                    normalize = True,\n",
    "                    positive = False).fit(X_train, y_train)"
   ]
  },
  {
   "cell_type": "markdown",
   "metadata": {},
   "source": [
    "#### Compare the training set error and the out-of-time holdout error."
   ]
  },
  {
   "cell_type": "code",
   "execution_count": 19,
   "metadata": {},
   "outputs": [
    {
     "data": {
      "text/html": [
       "<div>\n",
       "<style scoped>\n",
       "    .dataframe tbody tr th:only-of-type {\n",
       "        vertical-align: middle;\n",
       "    }\n",
       "\n",
       "    .dataframe tbody tr th {\n",
       "        vertical-align: top;\n",
       "    }\n",
       "\n",
       "    .dataframe thead th {\n",
       "        text-align: right;\n",
       "    }\n",
       "</style>\n",
       "<table border=\"1\" class=\"dataframe\">\n",
       "  <thead>\n",
       "    <tr style=\"text-align: right;\">\n",
       "      <th></th>\n",
       "      <th>Training Set</th>\n",
       "      <th>Holdout Set</th>\n",
       "    </tr>\n",
       "  </thead>\n",
       "  <tbody>\n",
       "    <tr>\n",
       "      <th>R^2</th>\n",
       "      <td>0.979</td>\n",
       "      <td>0.942</td>\n",
       "    </tr>\n",
       "  </tbody>\n",
       "</table>\n",
       "</div>"
      ],
      "text/plain": [
       "     Training Set  Holdout Set\n",
       "R^2         0.979        0.942"
      ]
     },
     "execution_count": 19,
     "metadata": {},
     "output_type": "execute_result"
    }
   ],
   "source": [
    "R2_train = model.score(X_train, y_train)\n",
    "R2_holdout = model.score(X_holdout, y_holdout)\n",
    "R2_table = pd.DataFrame({'Training Set': R2_train,\n",
    "                         'Holdout Set': R2_holdout},\n",
    "                        index = ['R^2']\n",
    "                       ).round(3)\n",
    "R2_table"
   ]
  },
  {
   "cell_type": "code",
   "execution_count": 41,
   "metadata": {},
   "outputs": [
    {
     "data": {
      "text/plain": [
       "<matplotlib.axes._subplots.AxesSubplot at 0x7f170678b710>"
      ]
     },
     "execution_count": 41,
     "metadata": {},
     "output_type": "execute_result"
    }
   ],
   "source": [
    "pred_vs_act = pd.DataFrame({'Predicted': model.predict(X_holdout),\n",
    "                            'Actual': y_holdout})\n",
    "pred_vs_act.plot()"
   ]
  },
  {
   "cell_type": "markdown",
   "metadata": {},
   "source": [
    "#### Print the coefficients of the LASSO model."
   ]
  },
  {
   "cell_type": "code",
   "execution_count": 27,
   "metadata": {},
   "outputs": [
    {
     "data": {
      "text/html": [
       "<div>\n",
       "<style scoped>\n",
       "    .dataframe tbody tr th:only-of-type {\n",
       "        vertical-align: middle;\n",
       "    }\n",
       "\n",
       "    .dataframe tbody tr th {\n",
       "        vertical-align: top;\n",
       "    }\n",
       "\n",
       "    .dataframe thead th {\n",
       "        text-align: right;\n",
       "    }\n",
       "</style>\n",
       "<table border=\"1\" class=\"dataframe\">\n",
       "  <thead>\n",
       "    <tr style=\"text-align: right;\">\n",
       "      <th></th>\n",
       "      <th>Coefficient</th>\n",
       "    </tr>\n",
       "  </thead>\n",
       "  <tbody>\n",
       "    <tr>\n",
       "      <th>15-Year Mortgage</th>\n",
       "      <td>0.281132</td>\n",
       "    </tr>\n",
       "    <tr>\n",
       "      <th>5/1 Adjustable Rate Mortgage</th>\n",
       "      <td>0</td>\n",
       "    </tr>\n",
       "    <tr>\n",
       "      <th>Origination Fees/Discounts for 30-Year Mortgage</th>\n",
       "      <td>0</td>\n",
       "    </tr>\n",
       "    <tr>\n",
       "      <th>Origination Fees/Discounts for 15-Year Mortgage</th>\n",
       "      <td>0</td>\n",
       "    </tr>\n",
       "    <tr>\n",
       "      <th>Origination Fees/Discounts for 5/1 Adjustable Rate Mortgage</th>\n",
       "      <td>0</td>\n",
       "    </tr>\n",
       "    <tr>\n",
       "      <th>30-Year Mortgage lag1</th>\n",
       "      <td>0.680522</td>\n",
       "    </tr>\n",
       "    <tr>\n",
       "      <th>30-Year Mortgage lag2</th>\n",
       "      <td>0</td>\n",
       "    </tr>\n",
       "    <tr>\n",
       "      <th>30-Year Mortgage lag3</th>\n",
       "      <td>0</td>\n",
       "    </tr>\n",
       "    <tr>\n",
       "      <th>15-Year Mortgage lag1</th>\n",
       "      <td>0</td>\n",
       "    </tr>\n",
       "    <tr>\n",
       "      <th>15-Year Mortgage lag2</th>\n",
       "      <td>0</td>\n",
       "    </tr>\n",
       "    <tr>\n",
       "      <th>15-Year Mortgage lag3</th>\n",
       "      <td>0</td>\n",
       "    </tr>\n",
       "    <tr>\n",
       "      <th>5/1 Adjustable Rate Mortgage lag1</th>\n",
       "      <td>0</td>\n",
       "    </tr>\n",
       "    <tr>\n",
       "      <th>5/1 Adjustable Rate Mortgage lag2</th>\n",
       "      <td>0</td>\n",
       "    </tr>\n",
       "    <tr>\n",
       "      <th>5/1 Adjustable Rate Mortgage lag3</th>\n",
       "      <td>0</td>\n",
       "    </tr>\n",
       "    <tr>\n",
       "      <th>Origination Fees/Discounts for 30-Year Mortgage lag1</th>\n",
       "      <td>0</td>\n",
       "    </tr>\n",
       "    <tr>\n",
       "      <th>Origination Fees/Discounts for 30-Year Mortgage lag2</th>\n",
       "      <td>0</td>\n",
       "    </tr>\n",
       "    <tr>\n",
       "      <th>Origination Fees/Discounts for 30-Year Mortgage lag3</th>\n",
       "      <td>0</td>\n",
       "    </tr>\n",
       "    <tr>\n",
       "      <th>Origination Fees/Discounts for 15-Year Mortgage lag1</th>\n",
       "      <td>0</td>\n",
       "    </tr>\n",
       "    <tr>\n",
       "      <th>Origination Fees/Discounts for 15-Year Mortgage lag2</th>\n",
       "      <td>0</td>\n",
       "    </tr>\n",
       "    <tr>\n",
       "      <th>Origination Fees/Discounts for 15-Year Mortgage lag3</th>\n",
       "      <td>0</td>\n",
       "    </tr>\n",
       "    <tr>\n",
       "      <th>Origination Fees/Discounts for 5/1 Adjustable Rate Mortgage lag1</th>\n",
       "      <td>0</td>\n",
       "    </tr>\n",
       "    <tr>\n",
       "      <th>Origination Fees/Discounts for 5/1 Adjustable Rate Mortgage lag2</th>\n",
       "      <td>0</td>\n",
       "    </tr>\n",
       "    <tr>\n",
       "      <th>Origination Fees/Discounts for 5/1 Adjustable Rate Mortgage lag3</th>\n",
       "      <td>0</td>\n",
       "    </tr>\n",
       "  </tbody>\n",
       "</table>\n",
       "</div>"
      ],
      "text/plain": [
       "                                                   Coefficient\n",
       "15-Year Mortgage                                      0.281132\n",
       "5/1 Adjustable Rate Mortgage                                 0\n",
       "Origination Fees/Discounts for 30-Year Mortgage              0\n",
       "Origination Fees/Discounts for 15-Year Mortgage              0\n",
       "Origination Fees/Discounts for 5/1 Adjustable R...           0\n",
       "30-Year Mortgage lag1                                 0.680522\n",
       "30-Year Mortgage lag2                                        0\n",
       "30-Year Mortgage lag3                                        0\n",
       "15-Year Mortgage lag1                                        0\n",
       "15-Year Mortgage lag2                                        0\n",
       "15-Year Mortgage lag3                                        0\n",
       "5/1 Adjustable Rate Mortgage lag1                            0\n",
       "5/1 Adjustable Rate Mortgage lag2                            0\n",
       "5/1 Adjustable Rate Mortgage lag3                            0\n",
       "Origination Fees/Discounts for 30-Year Mortgage...           0\n",
       "Origination Fees/Discounts for 30-Year Mortgage...           0\n",
       "Origination Fees/Discounts for 30-Year Mortgage...           0\n",
       "Origination Fees/Discounts for 15-Year Mortgage...           0\n",
       "Origination Fees/Discounts for 15-Year Mortgage...           0\n",
       "Origination Fees/Discounts for 15-Year Mortgage...           0\n",
       "Origination Fees/Discounts for 5/1 Adjustable R...           0\n",
       "Origination Fees/Discounts for 5/1 Adjustable R...           0\n",
       "Origination Fees/Discounts for 5/1 Adjustable R...           0"
      ]
     },
     "execution_count": 27,
     "metadata": {},
     "output_type": "execute_result"
    }
   ],
   "source": [
    "coefficients = pd.DataFrame(model.coef_, \n",
    "                            index = X_train.columns,\n",
    "                            columns = ['Coefficient']\n",
    "                           ).applymap(lambda x: str(round(x)) if x == 0 else x)\n",
    "coefficients"
   ]
  }
 ],
 "metadata": {
  "kernelspec": {
   "display_name": "Python 3",
   "language": "python",
   "name": "python3"
  },
  "language_info": {
   "codemirror_mode": {
    "name": "ipython",
    "version": 3
   },
   "file_extension": ".py",
   "mimetype": "text/x-python",
   "name": "python",
   "nbconvert_exporter": "python",
   "pygments_lexer": "ipython3",
   "version": "3.6.5"
  }
 },
 "nbformat": 4,
 "nbformat_minor": 2
}
